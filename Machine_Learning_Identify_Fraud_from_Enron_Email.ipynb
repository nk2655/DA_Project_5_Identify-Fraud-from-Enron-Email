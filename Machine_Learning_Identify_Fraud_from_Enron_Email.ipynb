{
 "cells": [
  {
   "cell_type": "code",
   "execution_count": 1,
   "metadata": {
    "collapsed": false
   },
   "outputs": [
    {
     "data": {
      "text/html": [
       "<style>\n",
       "table {float:left}\n",
       "</style>"
      ],
      "text/plain": [
       "<IPython.core.display.HTML object>"
      ]
     },
     "metadata": {},
     "output_type": "display_data"
    }
   ],
   "source": [
    "%%html\n",
    "<style>\n",
    "table {float:left}\n",
    "</style>"
   ]
  },
  {
   "cell_type": "code",
   "execution_count": 2,
   "metadata": {
    "collapsed": false
   },
   "outputs": [
    {
     "data": {
      "text/html": [
       "<button onclick=\"$('.input, .prompt, .output_stderr, .output_error').toggle();\">Toggle Code</button>"
      ]
     },
     "metadata": {},
     "output_type": "display_data"
    }
   ],
   "source": [
    "from IPython.display import display_html\n",
    "display_html(\"\"\"<button onclick=\"$('.input, .prompt, .output_stderr, .output_error').toggle();\">Toggle Code</button>\"\"\", raw=True)"
   ]
  },
  {
   "cell_type": "markdown",
   "metadata": {},
   "source": [
    "# Machine_Learning_Identify_Fraud_from_Enron_Email\n",
    "by NK Zhehua Zou\n",
    "\n",
    "# Introduction\n",
    "Before it falls, Enron was one the biggest corporation in the United States. An energy company created by Kenneth Lay in 1985 after the merging of Houston Natural Gas and InterNorth. This compagny once cited as one of the most innovative one ,declared bankruptcy after the scandal about fraud and conspiracy was revealead in October 2001. The dataset used in this project compiled financial data and email correspondance of person related to the firm."
   ]
  },
  {
   "cell_type": "code",
   "execution_count": 3,
   "metadata": {
    "collapsed": false
   },
   "outputs": [],
   "source": [
    "import pandas as pd\n",
    "import matplotlib.pyplot as plt\n",
    "%matplotlib inline\n",
    "\n",
    "# import files from specific folder\n",
    "# from tester import two functions will save time creat some function for validation and algorithm\n",
    "import sys\n",
    "sys.path.append(\"script/\")\n",
    "from feature_format import featureFormat, targetFeatureSplit\n",
    "from tester import test_classifier, dump_classifier_and_data\n",
    "\n",
    "# load for algorithm\n",
    "import numpy as np\n",
    "from time import time\n",
    "from sklearn.feature_selection import SelectKBest\n",
    "from sklearn.cross_validation import train_test_split\n",
    "from sklearn.tree import DecisionTreeClassifier\n",
    "from sklearn.naive_bayes import GaussianNB\n",
    "from sklearn.neighbors import KNeighborsClassifier\n",
    "from sklearn.pipeline import Pipeline\n",
    "from sklearn.preprocessing import StandardScaler\n",
    "from sklearn.grid_search import GridSearchCV"
   ]
  },
  {
   "cell_type": "code",
   "execution_count": 4,
   "metadata": {
    "collapsed": false
   },
   "outputs": [],
   "source": [
    "# same way with other data.type, pd.read_type() and df.to_type()\n",
    "data_dict = pd.read_pickle('pkl/final_project_dataset.pkl')"
   ]
  },
  {
   "cell_type": "code",
   "execution_count": 5,
   "metadata": {
    "collapsed": false
   },
   "outputs": [],
   "source": [
    "# change it to dataframe from dict\n",
    "data_df = pd.DataFrame(data_dict)"
   ]
  },
  {
   "cell_type": "code",
   "execution_count": 6,
   "metadata": {
    "collapsed": true
   },
   "outputs": [],
   "source": [
    "# run df.head() to check table and then transpose it\n",
    "data_df = pd.DataFrame.transpose(data_df)"
   ]
  },
  {
   "cell_type": "markdown",
   "metadata": {},
   "source": [
    "# Summary"
   ]
  },
  {
   "cell_type": "code",
   "execution_count": 7,
   "metadata": {
    "collapsed": false
   },
   "outputs": [
    {
     "name": "stdout",
     "output_type": "stream",
     "text": [
      "The number of row and col in this dataset: (146, 21)\n"
     ]
    }
   ],
   "source": [
    "# df.shape() check row and col\n",
    "print 'The number of row and col in this dataset: ' + str(data_df.shape)"
   ]
  },
  {
   "cell_type": "code",
   "execution_count": 8,
   "metadata": {
    "collapsed": false
   },
   "outputs": [
    {
     "data": {
      "text/html": [
       "<div>\n",
       "<table border=\"1\" class=\"dataframe\">\n",
       "  <thead>\n",
       "    <tr style=\"text-align: right;\">\n",
       "      <th></th>\n",
       "      <th>bonus</th>\n",
       "      <th>deferral_payments</th>\n",
       "      <th>deferred_income</th>\n",
       "      <th>director_fees</th>\n",
       "      <th>email_address</th>\n",
       "      <th>exercised_stock_options</th>\n",
       "      <th>expenses</th>\n",
       "      <th>from_messages</th>\n",
       "      <th>from_poi_to_this_person</th>\n",
       "      <th>from_this_person_to_poi</th>\n",
       "      <th>...</th>\n",
       "      <th>long_term_incentive</th>\n",
       "      <th>other</th>\n",
       "      <th>poi</th>\n",
       "      <th>restricted_stock</th>\n",
       "      <th>restricted_stock_deferred</th>\n",
       "      <th>salary</th>\n",
       "      <th>shared_receipt_with_poi</th>\n",
       "      <th>to_messages</th>\n",
       "      <th>total_payments</th>\n",
       "      <th>total_stock_value</th>\n",
       "    </tr>\n",
       "  </thead>\n",
       "  <tbody>\n",
       "    <tr>\n",
       "      <th>ALLEN PHILLIP K</th>\n",
       "      <td>4175000</td>\n",
       "      <td>2869717</td>\n",
       "      <td>-3081055</td>\n",
       "      <td>NaN</td>\n",
       "      <td>phillip.allen@enron.com</td>\n",
       "      <td>1729541</td>\n",
       "      <td>13868</td>\n",
       "      <td>2195</td>\n",
       "      <td>47</td>\n",
       "      <td>65</td>\n",
       "      <td>...</td>\n",
       "      <td>304805</td>\n",
       "      <td>152</td>\n",
       "      <td>False</td>\n",
       "      <td>126027</td>\n",
       "      <td>-126027</td>\n",
       "      <td>201955</td>\n",
       "      <td>1407</td>\n",
       "      <td>2902</td>\n",
       "      <td>4484442</td>\n",
       "      <td>1729541</td>\n",
       "    </tr>\n",
       "    <tr>\n",
       "      <th>BADUM JAMES P</th>\n",
       "      <td>NaN</td>\n",
       "      <td>178980</td>\n",
       "      <td>NaN</td>\n",
       "      <td>NaN</td>\n",
       "      <td>NaN</td>\n",
       "      <td>257817</td>\n",
       "      <td>3486</td>\n",
       "      <td>NaN</td>\n",
       "      <td>NaN</td>\n",
       "      <td>NaN</td>\n",
       "      <td>...</td>\n",
       "      <td>NaN</td>\n",
       "      <td>NaN</td>\n",
       "      <td>False</td>\n",
       "      <td>NaN</td>\n",
       "      <td>NaN</td>\n",
       "      <td>NaN</td>\n",
       "      <td>NaN</td>\n",
       "      <td>NaN</td>\n",
       "      <td>182466</td>\n",
       "      <td>257817</td>\n",
       "    </tr>\n",
       "    <tr>\n",
       "      <th>BANNANTINE JAMES M</th>\n",
       "      <td>NaN</td>\n",
       "      <td>NaN</td>\n",
       "      <td>-5104</td>\n",
       "      <td>NaN</td>\n",
       "      <td>james.bannantine@enron.com</td>\n",
       "      <td>4046157</td>\n",
       "      <td>56301</td>\n",
       "      <td>29</td>\n",
       "      <td>39</td>\n",
       "      <td>0</td>\n",
       "      <td>...</td>\n",
       "      <td>NaN</td>\n",
       "      <td>864523</td>\n",
       "      <td>False</td>\n",
       "      <td>1757552</td>\n",
       "      <td>-560222</td>\n",
       "      <td>477</td>\n",
       "      <td>465</td>\n",
       "      <td>566</td>\n",
       "      <td>916197</td>\n",
       "      <td>5243487</td>\n",
       "    </tr>\n",
       "    <tr>\n",
       "      <th>BAXTER JOHN C</th>\n",
       "      <td>1200000</td>\n",
       "      <td>1295738</td>\n",
       "      <td>-1386055</td>\n",
       "      <td>NaN</td>\n",
       "      <td>NaN</td>\n",
       "      <td>6680544</td>\n",
       "      <td>11200</td>\n",
       "      <td>NaN</td>\n",
       "      <td>NaN</td>\n",
       "      <td>NaN</td>\n",
       "      <td>...</td>\n",
       "      <td>1586055</td>\n",
       "      <td>2660303</td>\n",
       "      <td>False</td>\n",
       "      <td>3942714</td>\n",
       "      <td>NaN</td>\n",
       "      <td>267102</td>\n",
       "      <td>NaN</td>\n",
       "      <td>NaN</td>\n",
       "      <td>5634343</td>\n",
       "      <td>10623258</td>\n",
       "    </tr>\n",
       "    <tr>\n",
       "      <th>BAY FRANKLIN R</th>\n",
       "      <td>400000</td>\n",
       "      <td>260455</td>\n",
       "      <td>-201641</td>\n",
       "      <td>NaN</td>\n",
       "      <td>frank.bay@enron.com</td>\n",
       "      <td>NaN</td>\n",
       "      <td>129142</td>\n",
       "      <td>NaN</td>\n",
       "      <td>NaN</td>\n",
       "      <td>NaN</td>\n",
       "      <td>...</td>\n",
       "      <td>NaN</td>\n",
       "      <td>69</td>\n",
       "      <td>False</td>\n",
       "      <td>145796</td>\n",
       "      <td>-82782</td>\n",
       "      <td>239671</td>\n",
       "      <td>NaN</td>\n",
       "      <td>NaN</td>\n",
       "      <td>827696</td>\n",
       "      <td>63014</td>\n",
       "    </tr>\n",
       "  </tbody>\n",
       "</table>\n",
       "<p>5 rows × 21 columns</p>\n",
       "</div>"
      ],
      "text/plain": [
       "                      bonus deferral_payments deferred_income director_fees  \\\n",
       "ALLEN PHILLIP K     4175000           2869717        -3081055           NaN   \n",
       "BADUM JAMES P           NaN            178980             NaN           NaN   \n",
       "BANNANTINE JAMES M      NaN               NaN           -5104           NaN   \n",
       "BAXTER JOHN C       1200000           1295738        -1386055           NaN   \n",
       "BAY FRANKLIN R       400000            260455         -201641           NaN   \n",
       "\n",
       "                                 email_address exercised_stock_options  \\\n",
       "ALLEN PHILLIP K        phillip.allen@enron.com                 1729541   \n",
       "BADUM JAMES P                              NaN                  257817   \n",
       "BANNANTINE JAMES M  james.bannantine@enron.com                 4046157   \n",
       "BAXTER JOHN C                              NaN                 6680544   \n",
       "BAY FRANKLIN R             frank.bay@enron.com                     NaN   \n",
       "\n",
       "                   expenses from_messages from_poi_to_this_person  \\\n",
       "ALLEN PHILLIP K       13868          2195                      47   \n",
       "BADUM JAMES P          3486           NaN                     NaN   \n",
       "BANNANTINE JAMES M    56301            29                      39   \n",
       "BAXTER JOHN C         11200           NaN                     NaN   \n",
       "BAY FRANKLIN R       129142           NaN                     NaN   \n",
       "\n",
       "                   from_this_person_to_poi        ...         \\\n",
       "ALLEN PHILLIP K                         65        ...          \n",
       "BADUM JAMES P                          NaN        ...          \n",
       "BANNANTINE JAMES M                       0        ...          \n",
       "BAXTER JOHN C                          NaN        ...          \n",
       "BAY FRANKLIN R                         NaN        ...          \n",
       "\n",
       "                   long_term_incentive    other    poi restricted_stock  \\\n",
       "ALLEN PHILLIP K                 304805      152  False           126027   \n",
       "BADUM JAMES P                      NaN      NaN  False              NaN   \n",
       "BANNANTINE JAMES M                 NaN   864523  False          1757552   \n",
       "BAXTER JOHN C                  1586055  2660303  False          3942714   \n",
       "BAY FRANKLIN R                     NaN       69  False           145796   \n",
       "\n",
       "                   restricted_stock_deferred  salary shared_receipt_with_poi  \\\n",
       "ALLEN PHILLIP K                      -126027  201955                    1407   \n",
       "BADUM JAMES P                            NaN     NaN                     NaN   \n",
       "BANNANTINE JAMES M                   -560222     477                     465   \n",
       "BAXTER JOHN C                            NaN  267102                     NaN   \n",
       "BAY FRANKLIN R                        -82782  239671                     NaN   \n",
       "\n",
       "                   to_messages total_payments total_stock_value  \n",
       "ALLEN PHILLIP K           2902        4484442           1729541  \n",
       "BADUM JAMES P              NaN         182466            257817  \n",
       "BANNANTINE JAMES M         566         916197           5243487  \n",
       "BAXTER JOHN C              NaN        5634343          10623258  \n",
       "BAY FRANKLIN R             NaN         827696             63014  \n",
       "\n",
       "[5 rows x 21 columns]"
      ]
     },
     "execution_count": 8,
     "metadata": {},
     "output_type": "execute_result"
    }
   ],
   "source": [
    "# run again to confirm if data transposed to correct shape\n",
    "data_df.head()"
   ]
  },
  {
   "cell_type": "markdown",
   "metadata": {},
   "source": [
    "### Data Exploration\n",
    "1) The number of POI (persons of interest) and non-POI"
   ]
  },
  {
   "cell_type": "code",
   "execution_count": 9,
   "metadata": {
    "collapsed": false
   },
   "outputs": [
    {
     "name": "stdout",
     "output_type": "stream",
     "text": [
      "The number of POI is : 18\n",
      "The number of non-POI is : 128\n"
     ]
    }
   ],
   "source": [
    "# sum(data['variable']) need variable as condition\n",
    "# len(data) not need condition\n",
    "is_poi = data_df[data_df['poi']==True]\n",
    "non_poi = data_df[data_df['poi']==False]\n",
    "print 'The number of POI is : ' + str(sum(is_poi['poi']))\n",
    "print 'The number of non-POI is : ' + str(len(non_poi))"
   ]
  },
  {
   "cell_type": "markdown",
   "metadata": {},
   "source": [
    "2) Top 5 of missing values in each column"
   ]
  },
  {
   "cell_type": "code",
   "execution_count": 10,
   "metadata": {
    "collapsed": false
   },
   "outputs": [
    {
     "data": {
      "text/plain": [
       "loan_advances                142\n",
       "director_fees                129\n",
       "restricted_stock_deferred    128\n",
       "deferral_payments            107\n",
       "deferred_income               97\n",
       "dtype: int64"
      ]
     },
     "execution_count": 10,
     "metadata": {},
     "output_type": "execute_result"
    }
   ],
   "source": [
    "data_df[data_df=='NaN']=None\n",
    "data_df.isnull().sum().sort_values(ascending=False)[:5]"
   ]
  },
  {
   "cell_type": "markdown",
   "metadata": {},
   "source": [
    "3) Top 5 of missing values in each row"
   ]
  },
  {
   "cell_type": "code",
   "execution_count": 11,
   "metadata": {
    "collapsed": false
   },
   "outputs": [
    {
     "data": {
      "text/plain": [
       "LOCKHART EUGENE E                20\n",
       "GRAMM WENDY L                    18\n",
       "WROBEL BRUCE                     18\n",
       "WHALEY DAVID A                   18\n",
       "THE TRAVEL AGENCY IN THE PARK    18\n",
       "dtype: int64"
      ]
     },
     "execution_count": 11,
     "metadata": {},
     "output_type": "execute_result"
    }
   ],
   "source": [
    "# df.isnull().sum(axis=1) count missing value in row\n",
    "# df.isnull().sum(axis=1)[:5] show 5th row of count missing value\n",
    "data_df.isnull().sum(axis=1).sort_values(ascending=False)[:5]"
   ]
  },
  {
   "cell_type": "markdown",
   "metadata": {},
   "source": [
    "4) Detail of 'LOCKHART EUGENE E' who missing 20 values"
   ]
  },
  {
   "cell_type": "code",
   "execution_count": 12,
   "metadata": {
    "collapsed": false
   },
   "outputs": [
    {
     "data": {
      "text/plain": [
       "bonus                         None\n",
       "deferral_payments             None\n",
       "deferred_income               None\n",
       "director_fees                 None\n",
       "email_address                 None\n",
       "exercised_stock_options       None\n",
       "expenses                      None\n",
       "from_messages                 None\n",
       "from_poi_to_this_person       None\n",
       "from_this_person_to_poi       None\n",
       "loan_advances                 None\n",
       "long_term_incentive           None\n",
       "other                         None\n",
       "poi                          False\n",
       "restricted_stock              None\n",
       "restricted_stock_deferred     None\n",
       "salary                        None\n",
       "shared_receipt_with_poi       None\n",
       "to_messages                   None\n",
       "total_payments                None\n",
       "total_stock_value             None\n",
       "Name: LOCKHART EUGENE E, dtype: object"
      ]
     },
     "execution_count": 12,
     "metadata": {},
     "output_type": "execute_result"
    }
   ],
   "source": [
    "# df.loc['variable', :] chek details with specific location\n",
    "data_df.loc['LOCKHART EUGENE E']"
   ]
  },
  {
   "cell_type": "markdown",
   "metadata": {},
   "source": [
    "5) Find outlier for specific variable"
   ]
  },
  {
   "cell_type": "code",
   "execution_count": 13,
   "metadata": {
    "collapsed": false
   },
   "outputs": [
    {
     "data": {
      "text/plain": [
       "TOTAL                 97343619\n",
       "LAVORATO JOHN J        8000000\n",
       "LAY KENNETH L          7000000\n",
       "SKILLING JEFFREY K     5600000\n",
       "BELDEN TIMOTHY N       5249999\n",
       "Name: bonus, dtype: object"
      ]
     },
     "execution_count": 13,
     "metadata": {},
     "output_type": "execute_result"
    }
   ],
   "source": [
    "data_df.loc[:,'bonus'].sort_values(ascending=False)[:5]"
   ]
  },
  {
   "cell_type": "markdown",
   "metadata": {},
   "source": [
    "### Data Wrangling\n",
    "We delete these data because:  \n",
    "1) 'TOTAL' is outlier also is not an individual  \n",
    "2) 'THE TRAVEL AGENCY IN THE PARK' is not a individual  \n",
    "3) 'LOCKHART EUGENE E' no any information"
   ]
  },
  {
   "cell_type": "code",
   "execution_count": 14,
   "metadata": {
    "collapsed": false
   },
   "outputs": [],
   "source": [
    "data_df.drop(['TOTAL', 'THE TRAVEL AGENCY IN THE PARK', 'LOCKHART EUGENE E'], inplace=True)"
   ]
  },
  {
   "cell_type": "markdown",
   "metadata": {},
   "source": [
    "### Data Plotting"
   ]
  },
  {
   "cell_type": "code",
   "execution_count": 15,
   "metadata": {
    "collapsed": true
   },
   "outputs": [],
   "source": [
    "# Plotting Data\n",
    "# for i, _ in enumerate(dataset), need _ because enumerate will return index and value\n",
    "# plt.subplot() includes the numbers of row, column, index\n",
    "# plt.subplots_adjust(hspace=0.5) is distance between each row\n",
    "def plot_univariate(dataset):\n",
    "    fig = plt.figure(figsize=(20, 40))\n",
    "    for i, _ in enumerate(dataset):\n",
    "        try:\n",
    "            sub = plt.subplot(7,3, i+1)\n",
    "            plt.xticks(rotation='vertical')\n",
    "            plt.subplots_adjust(hspace=0.5) \n",
    "            sub.hist(dataset.iloc[:,i].dropna())\n",
    "            sub.set_xlabel(dataset.columns[i])\n",
    "        except:\n",
    "            continue"
   ]
  },
  {
   "cell_type": "code",
   "execution_count": 16,
   "metadata": {
    "collapsed": false
   },
   "outputs": [
    {
     "data": {
      "image/png": "[encoded data removed]",
      "text/plain": [
       "<matplotlib.figure.Figure at 0xa7889e8>"
      ]
     },
     "metadata": {},
     "output_type": "display_data"
    }
   ],
   "source": [
    "plot_univariate(data_df)"
   ]
  },
  {
   "cell_type": "markdown",
   "metadata": {},
   "source": [
    "# Algorithm and Validation\n",
    "\n",
    "### Data wrangling\n",
    "We need to delete these data ('TOTAL', 'THE TRAVEL AGENCY IN THE PARK', 'LOCKHART EUGENE E') again because we use different type of dataset to process next section."
   ]
  },
  {
   "cell_type": "code",
   "execution_count": 17,
   "metadata": {
    "collapsed": false,
    "scrolled": false
   },
   "outputs": [
    {
     "data": {
      "text/plain": [
       "{'bonus': 'NaN',\n",
       " 'deferral_payments': 'NaN',\n",
       " 'deferred_income': 'NaN',\n",
       " 'director_fees': 'NaN',\n",
       " 'email_address': 'NaN',\n",
       " 'exercised_stock_options': 'NaN',\n",
       " 'expenses': 'NaN',\n",
       " 'from_messages': 'NaN',\n",
       " 'from_poi_to_this_person': 'NaN',\n",
       " 'from_this_person_to_poi': 'NaN',\n",
       " 'loan_advances': 'NaN',\n",
       " 'long_term_incentive': 'NaN',\n",
       " 'other': 'NaN',\n",
       " 'poi': False,\n",
       " 'restricted_stock': 'NaN',\n",
       " 'restricted_stock_deferred': 'NaN',\n",
       " 'salary': 'NaN',\n",
       " 'shared_receipt_with_poi': 'NaN',\n",
       " 'to_messages': 'NaN',\n",
       " 'total_payments': 'NaN',\n",
       " 'total_stock_value': 'NaN'}"
      ]
     },
     "execution_count": 17,
     "metadata": {},
     "output_type": "execute_result"
    }
   ],
   "source": [
    "# We use dict because I don't know how to use dataframe in next section\n",
    "data_dict.pop('TOTAL', None)\n",
    "data_dict.pop('THE TRAVEL AGENCY IN THE PARK', None)\n",
    "data_dict.pop('LOCKHART EUGENE E', None)"
   ]
  },
  {
   "cell_type": "markdown",
   "metadata": {},
   "source": [
    "### Create New Feartures and get best features\n",
    "1) Two features are created related to the email. \"Ratio from poi\" and \"Ratio to poi\" give an indication of the importance of mail send to / receive from poi in proportion of the total email of send / recieve.  \n",
    "2) Get best features by SelectKbest. I tested best value for K by hand, put 4 to 10 in K each time and caculated F1 with Decision Tree.  \n",
    "3) See the chart below, we found K=5 will get best result.  \n",
    "4) Best features are 'poi', 'loan_advances', 'deferred_income', 'expenses', 'ratio_from_poi'."
   ]
  },
  {
   "cell_type": "markdown",
   "metadata": {},
   "source": [
    "##### Result from Decision Tree with diffrence K value\n",
    "| K | 4 | 5 | 6 | 7 | 8 | 9 | 10 |  \n",
    "|---|---|---|---|---|---|---|---|  \n",
    "| Accuracy | 0.78 | 0.79 | 0.81 | 0.79 | 0.77 | 0.79 | 0.79 |  \n",
    "| Precision | 0.37 | 0.37 | 0.35 | 0.33 | 0.27 | 0.27 | 0.29 |  \n",
    "| Recall | 0.33 | 0.33 | 0.30 | 0.33 | 0.27 | 0.27 | 0.29 |  \n",
    "| F1 | 0.35 | 0.35 | 0.32 | 0.33 | 0.27 | 0.27 | 0.29 |  "
   ]
  },
  {
   "cell_type": "code",
   "execution_count": 18,
   "metadata": {
    "collapsed": true
   },
   "outputs": [],
   "source": [
    "# create new features\n",
    "def ratio_features(num,den):\n",
    "    new_feature=[]\n",
    "    for key in data_dict:\n",
    "        if data_dict[key][num]!=\"NaN\" or  data_dict[key][den]!=\"NaN\":\n",
    "            new_feature.append(float(data_dict[key][num])/float(data_dict[key][den]))\n",
    "        else:\n",
    "            new_feature.append(0.)\n",
    "    return new_feature\n",
    "\n",
    "ratio_from_poi=ratio_features('from_poi_to_this_person','to_messages')\n",
    "ratio_to_poi=ratio_features('from_this_person_to_poi','from_messages')\n",
    "\n",
    "for i,key in enumerate(data_dict):\n",
    "    data_dict[key][\"ratio_from_poi\"]=ratio_from_poi[i]\n",
    "    data_dict[key][\"ratio_to_poi\"]=ratio_to_poi[i]\n",
    "\n",
    "new_features = ['ratio_from_poi', 'ratio_to_poi']"
   ]
  },
  {
   "cell_type": "code",
   "execution_count": 19,
   "metadata": {
    "collapsed": true
   },
   "outputs": [],
   "source": [
    "# create features list\n",
    "financial_features=['salary', 'deferral_payments', 'total_payments',\n",
    " 'loan_advances', 'bonus', 'restricted_stock_deferred', 'deferred_income', \n",
    " 'total_stock_value', 'expenses', 'exercised_stock_options', 'other', \n",
    " 'long_term_incentive', 'restricted_stock', 'director_fees'] \n",
    "\n",
    "email_features=['to_messages', 'from_poi_to_this_person', 'from_messages', \n",
    "'from_this_person_to_poi', 'shared_receipt_with_poi']\n",
    "\n",
    "features_list = ['poi'] + financial_features + email_features\n",
    "\n",
    "features_list += new_features"
   ]
  },
  {
   "cell_type": "code",
   "execution_count": 20,
   "metadata": {
    "collapsed": false
   },
   "outputs": [
    {
     "name": "stdout",
     "output_type": "stream",
     "text": [
      "Best features:  ['poi', 'loan_advances', 'deferred_income', 'expenses', 'ratio_from_poi']\n"
     ]
    }
   ],
   "source": [
    "# get best features\n",
    "data = featureFormat(data_dict, features_list)\n",
    "labels, features = targetFeatureSplit(data)\n",
    "\n",
    "selector = SelectKBest(k=5)\n",
    "selectedFeatures = selector.fit(features,labels)\n",
    "best_features = [features_list[i] for i in selectedFeatures.get_support(indices=True)]\n",
    "print 'Best features: ', best_features"
   ]
  },
  {
   "cell_type": "code",
   "execution_count": 21,
   "metadata": {
    "collapsed": false
   },
   "outputs": [
    {
     "name": "stdout",
     "output_type": "stream",
     "text": [
      "DecisionTreeClassifier(class_weight=None, criterion='gini', max_depth=None,\n",
      "            max_features=None, max_leaf_nodes=None, min_samples_leaf=1,\n",
      "            min_samples_split=2, min_weight_fraction_leaf=0.0,\n",
      "            presort=False, random_state=None, splitter='best')\n",
      "\tAccuracy: 0.79342\tPrecision: 0.36568\tRecall: 0.32600\tF1: 0.34470\tF2: 0.33323\n",
      "\tTotal predictions: 12000\tTrue positives:  652\tFalse positives: 1131\tFalse negatives: 1348\tTrue negatives: 8869\n",
      "\n"
     ]
    }
   ],
   "source": [
    "# update labels and features\n",
    "np.random.seed(42)\n",
    "\n",
    "data = featureFormat(data_dict, best_features)\n",
    "labels, features = targetFeatureSplit(data)\n",
    "\n",
    "    ## split data into training and testing\n",
    "features_train, features_test, labels_train, labels_test = train_test_split(features, labels, test_size = 0.4, random_state = 42)\n",
    "\n",
    "clf = DecisionTreeClassifier()\n",
    "clf = clf.fit(features_train, labels_train)\n",
    "test_classifier(clf, data_dict, best_features)"
   ]
  },
  {
   "cell_type": "markdown",
   "metadata": {},
   "source": [
    "### Algorithm\n",
    "##### 1 - Naives Bayes"
   ]
  },
  {
   "cell_type": "code",
   "execution_count": 22,
   "metadata": {
    "collapsed": false
   },
   "outputs": [
    {
     "name": "stdout",
     "output_type": "stream",
     "text": [
      "GaussianNB()\n",
      "\tAccuracy: 0.75408\tPrecision: 0.21304\tRecall: 0.17650\tF1: 0.19305\tF2: 0.18277\n",
      "\tTotal predictions: 12000\tTrue positives:  353\tFalse positives: 1304\tFalse negatives: 1647\tTrue negatives: 8696\n",
      "\n",
      "Running time:  0.698 s\n"
     ]
    }
   ],
   "source": [
    "t0 = time()\n",
    "clf = GaussianNB()\n",
    "test_classifier(clf, data_dict, best_features)\n",
    "print 'Running time: ', round(time()-t0, 3), 's'"
   ]
  },
  {
   "cell_type": "markdown",
   "metadata": {},
   "source": [
    "##### 2 - K nearest neighbors"
   ]
  },
  {
   "cell_type": "code",
   "execution_count": 23,
   "metadata": {
    "collapsed": false
   },
   "outputs": [
    {
     "name": "stdout",
     "output_type": "stream",
     "text": [
      "Pipeline(steps=[('scale', StandardScaler(copy=True, with_mean=True, with_std=True)), ('knn', KNeighborsClassifier(algorithm='auto', leaf_size=30, metric='minkowski',\n",
      "           metric_params=None, n_jobs=1, n_neighbors=5, p=2,\n",
      "           weights='uniform'))])\n",
      "\tAccuracy: 0.83083\tPrecision: 0.45536\tRecall: 0.07650\tF1: 0.13099\tF2: 0.09177\n",
      "\tTotal predictions: 12000\tTrue positives:  153\tFalse positives:  183\tFalse negatives: 1847\tTrue negatives: 9817\n",
      "\n",
      "Running time:  1.012 s\n"
     ]
    }
   ],
   "source": [
    "t0 = time()\n",
    "knn = KNeighborsClassifier()\n",
    "# feature scale\n",
    "estimators = [('scale', StandardScaler()), ('knn', knn)]\n",
    "clf = Pipeline(estimators)\n",
    "test_classifier(clf, data_dict, best_features)\n",
    "print 'Running time: ', round(time()-t0, 3), 's'"
   ]
  },
  {
   "cell_type": "markdown",
   "metadata": {},
   "source": [
    "##### 3.1 - Decision Tree"
   ]
  },
  {
   "cell_type": "code",
   "execution_count": 24,
   "metadata": {
    "collapsed": false
   },
   "outputs": [
    {
     "name": "stdout",
     "output_type": "stream",
     "text": [
      "DecisionTreeClassifier(class_weight=None, criterion='gini', max_depth=None,\n",
      "            max_features=None, max_leaf_nodes=None, min_samples_leaf=1,\n",
      "            min_samples_split=2, min_weight_fraction_leaf=0.0,\n",
      "            presort=False, random_state=None, splitter='best')\n",
      "\tAccuracy: 0.79217\tPrecision: 0.36124\tRecall: 0.32150\tF1: 0.34021\tF2: 0.32873\n",
      "\tTotal predictions: 12000\tTrue positives:  643\tFalse positives: 1137\tFalse negatives: 1357\tTrue negatives: 8863\n",
      "\n",
      "feature importance\n",
      "[ 0.          0.24523774  0.41058496  0.3441773 ]\n",
      "Running time:  0.515 s\n"
     ]
    }
   ],
   "source": [
    "t0 = time()\n",
    "clf = DecisionTreeClassifier()\n",
    "clf = clf.fit(features_train, labels_train)\n",
    "test_classifier(clf, data_dict, best_features)\n",
    "print 'feature importance'\n",
    "print clf.feature_importances_\n",
    "print 'Running time: ', round(time()-t0, 3), 's'"
   ]
  },
  {
   "cell_type": "markdown",
   "metadata": {},
   "source": [
    "##### 3.2 - Tune Decision Tree"
   ]
  },
  {
   "cell_type": "code",
   "execution_count": 25,
   "metadata": {
    "collapsed": false
   },
   "outputs": [
    {
     "name": "stdout",
     "output_type": "stream",
     "text": [
      "Best estimator found by grid search:\n",
      "DecisionTreeClassifier(class_weight=None, criterion='gini', max_depth=3,\n",
      "            max_features=4, max_leaf_nodes=None, min_samples_leaf=1,\n",
      "            min_samples_split=4, min_weight_fraction_leaf=0.0,\n",
      "            presort=False, random_state=None, splitter='best')\n",
      "Running time:  0.663 s\n"
     ]
    }
   ],
   "source": [
    "t0 = time()\n",
    "param_grid = {\n",
    "         'min_samples_split': [2, 3, 4, 5, 6, 7, 8],\n",
    "          'max_depth': [1, 2, 3, 4, 5, 6, 7, 8],\n",
    "            'max_features': range(3,5)\n",
    "          }\n",
    "clf = GridSearchCV(DecisionTreeClassifier(), param_grid)\n",
    "clf = clf.fit(features_train, labels_train)\n",
    "print \"Best estimator found by grid search:\"\n",
    "print clf.best_estimator_\n",
    "print 'Running time: ', round(time()-t0, 3), 's'"
   ]
  },
  {
   "cell_type": "markdown",
   "metadata": {},
   "source": [
    "##### result\n",
    "| algorithm | precision | recall |  \n",
    "|---|---|---|---|---|  \n",
    "| GaussianNB() | 0.21 | 0.18 |  \n",
    "| KNeighborsClassifier(knn__algorithm='ball_tree', knn__n_neighbors=1) | 0.46 | 0.08 |  \n",
    "| tree.DecisionTreeClassifier(splitter='random', criterion='gini') | 0.36 | 0.32 |"
   ]
  },
  {
   "cell_type": "markdown",
   "metadata": {},
   "source": [
    "### Validate and Evaluate\n",
    "\n",
    "##### Validate\n",
    "1) Cross-validation, sometimes called rotation estimation, is a model validation technique for assessing how the results of a statistical analysis will generalize to an independent data set. It is mainly used in settings where the goal is prediction, and one wants to estimate how accurately a predictive model will perform in practice.  \n",
    "2) Validation plays an important role when checking the performance of the data. If the data use to fit the model, is also used to make the prediction.  \n",
    "3) The model will be unable to predict on new data and overfit if the data use to both of  fit model and prediction.  \n",
    "4) The simplest way is divide the dataset into training set and testing set, but limit the number of observations use to train the model.  \n",
    "5) Cross-validation could be used where the dataset is divide in k fold and a subset of the data is used to train, and the the rest is used to predict then repeat the process by changing the subset of data used to train the model.  \n",
    "6) Because of the small size of the dataset, stratified shuffle split cross validation is used. StratifiedShuffleSplit also keeps the ratio of POI/non-POI the same as it was in the original data set. A classic mistake to make a wrong validation is to split the sorted data without shuffling.  \n",
    "7) The machine learning algorithms are parameterized so that their behavior can be tuned for a given problem. It's important to perform parameter tuning here to adjust the precision and recall. In order to get the best result in identifying person of interest, I will use grid search to automatically tune the algorithm.  \n",
    "\n",
    "##### Evaluation metrics\n",
    "1) Low number of false positive and false negative result to High precision and recall.  \n",
    "$$ Precision =  \\frac{True Positive}{ True Positive + False Positive } $$  \n",
    "  \n",
    "$$ Recall    = \\frac{True Positive}{True Positive + False Negative } $$  \n",
    "\n",
    "2) f1_score is the weighted average of precision and recall, with 1 as the highest score and 0 as the worst.  \n",
    "To define which algorithm is the best suited to answer the problem \"f1\" was most useful measure of performance.  \n",
    "$$ f1 =  2 * \\frac{ Precision * Recall }{ Precision + Recall } $$  \n",
    "  \n",
    "##### Evaluation\n",
    "1) Avg. Precision: 0.36  \n",
    "Precision is also referred to as positive predictive value. It's calculated as True Positive/(True Positive + False Positive). In here it means the proportion of the correct prediction of all the people who are predicted to be poi.  \n",
    "2) Avg. Recall: 0.32  \n",
    "Recall is also referred to as the true positive rate or sensitivity. It's calculated as True Positive/(True Positive + False Negative). In here it means the proportion of the poi the model can detect of all the poi. For fraud prediction models, higher recall is generally preferred even if some precision is sacrificed.  \n",
    "  \n",
    "### Conclusion\n",
    "1) In this case, I have to preprocess data to remove outliers and invaliable data, and then identify the person of interest.  \n",
    "2) Decision Tree and K nearest neighbors are not better models in this case, they take long time and result low score of f1 and precision.  \n",
    "3) I take Naives bayes as the final model because of the performance of the rapidity of execution and result high f1 score (0.43) and high precision score (0.47).  \n",
    "  \n",
    "##### References\n",
    "1) https://github.com/GuillaumeSalvan/P5-Identify-Fraud-from-Enron-Email    \n",
    "2) https://github.com/yielder/identifying-fraud-from-enron-email  \n",
    "3) https://github.com/thuyquach/Identify-Fraud-from-Enron-Email  "
   ]
  }
 ],
 "metadata": {
  "anaconda-cloud": {},
  "kernelspec": {
   "display_name": "Python [Root]",
   "language": "python",
   "name": "Python [Root]"
  },
  "language_info": {
   "codemirror_mode": {
    "name": "ipython",
    "version": 2
   },
   "file_extension": ".py",
   "mimetype": "text/x-python",
   "name": "python",
   "nbconvert_exporter": "python",
   "pygments_lexer": "ipython2",
   "version": "2.7.12"
  }
 },
 "nbformat": 4,
 "nbformat_minor": 0
}
